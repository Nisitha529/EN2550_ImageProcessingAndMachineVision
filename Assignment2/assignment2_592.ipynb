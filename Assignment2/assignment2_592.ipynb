{
 "cells": [
  {
   "cell_type": "code",
   "execution_count": 1,
   "metadata": {},
   "outputs": [],
   "source": [
    "import numpy as np\n",
    "from scipy.optimize import minimize\n",
    "from scipy import linalg\n",
    "import matplotlib.pyplot as plt"
   ]
  },
  {
   "cell_type": "code",
   "execution_count": 2,
   "metadata": {},
   "outputs": [],
   "source": [
    "N = 100\n",
    "half_n = N//2\n",
    "r = 10\n",
    "s = r/16\n",
    "t = np.random.uniform(0 , 2*np.pi , half_n )\n",
    "n = s*np . random. randn (half_n)\n",
    "x , y = (r + n)*np.cos(t),(r + n)*np.sin(t)\n",
    "X_circ = np.hstack((x.reshape(half_n,1),y.reshape(half_n,1)))\n",
    "m, b = -1, 2\n",
    "x = np.linspace(-12, 12 , half_n)\n",
    "y = m*x + b + s*np.random.randn(half_n)\n",
    "X_line = np.hstack((x.reshape(half_n,1),y.reshape(half_n,1)))\n",
    "X = np.vstack((X_circ,X_line))"
   ]
  },
  {
   "cell_type": "code",
   "execution_count": null,
   "metadata": {},
   "outputs": [],
   "source": []
  }
 ],
 "metadata": {
  "interpreter": {
   "hash": "71a9e55ea9a4eb0ec0516cb2ecfe4cae1c555e7d5ef5085da43b83b5c34d74bd"
  },
  "kernelspec": {
   "display_name": "Python 3.10.4 64-bit (system)",
   "language": "python",
   "name": "python3"
  },
  "language_info": {
   "codemirror_mode": {
    "name": "ipython",
    "version": 3
   },
   "file_extension": ".py",
   "mimetype": "text/x-python",
   "name": "python",
   "nbconvert_exporter": "python",
   "pygments_lexer": "ipython3",
   "version": "3.10.4"
  },
  "orig_nbformat": 4
 },
 "nbformat": 4,
 "nbformat_minor": 2
}
