{
 "cells": [
  {
   "cell_type": "code",
   "execution_count": 1,
   "metadata": {},
   "outputs": [],
   "source": [
    "import numpy as np\n",
    "import cv2 as cv\n",
    "import matplotlib.pyplot as plt"
   ]
  },
  {
   "cell_type": "code",
   "execution_count": 2,
   "metadata": {},
   "outputs": [],
   "source": [
    "f = open(r'images/templeSparseRing/templeSR_par.txt','r')\n",
    "assert f is not None\n",
    "n = int(f.readline())\n",
    "\n",
    "#First Image\n",
    "l = f.readline().split()\n",
    "im1_fn = l[0]\n",
    "k1 = np.array([float(i) for i in l[1:10]]).reshape((3,3))\n",
    "r1 = np.array([float(i) for i in l[10:19]]).reshape((3,3))\n",
    "t1 = np.array([float(i) for i in l[19:22]]).reshape((3,1))\n",
    "\n",
    "#Second Image\n",
    "l = f.readline().split()\n",
    "im2_fn = l[0]\n",
    "k2 = np.array([float(i) for i in l[1:10]]).reshape((3,3))\n",
    "r2 = np.array([float(i) for i in l[10:19]]).reshape((3,3))\n",
    "t2 = np.array([float(i) for i in l[19:22]]).reshape((3,1))"
   ]
  },
  {
   "cell_type": "code",
   "execution_count": 3,
   "metadata": {},
   "outputs": [],
   "source": [
    "im1 = cv.imread(r'images/templeSparseRing/'+im1_fn,cv.IMREAD_COLOR)\n",
    "im2 = cv.imread(r'images/templeSparseRing/'+im2_fn,cv.IMREAD_COLOR)\n",
    "assert im1 is not None\n",
    "assert im2 is not None"
   ]
  },
  {
   "cell_type": "code",
   "execution_count": 13,
   "metadata": {},
   "outputs": [],
   "source": [
    "sift = cv.xfeatures2d.SIFT_create()\n",
    "kp1,desc1 = sift.detectAndCompute(im1,None)\n",
    "kp2,desc2 = sift.detectAndCompute(im2,None)\n",
    "\n",
    "FLANN_INDEX_KDTREE = 1\n",
    "\n",
    "indx_para = dict(algorithm = FLANN_INDEX_KDTREE,trees = 5)\n",
    "search_para = dict(checks = 100)\n",
    "flann = cv.FlannBasedMatcher(indx_para,search_para)\n",
    "matches = flann.knnMatch(desc1,desc2, k= 2)\n",
    "\n",
    "good = []\n",
    "pts1,pts2 = [],[]\n",
    "\n",
    "for i,(m,n) in enumerate(matches):\n",
    "    if m.distance < 0.7 *n.distance:\n",
    "        good.append(m)\n",
    "        pts1.append(kp1[m.queryIdx].pt)\n",
    "        pts2.append(kp2[m.trainIdx].pt)\n",
    "\n",
    "pts1 = np.array(pts1)\n",
    "pts2 = np.array(pts2)\n"
   ]
  },
  {
   "cell_type": "code",
   "execution_count": 17,
   "metadata": {},
   "outputs": [],
   "source": [
    "F,mask = cv.findFundamentalMat(pts1,pts2,cv.FM_RANSAC)\n",
    "E = k2.T @ F@ k1"
   ]
  },
  {
   "cell_type": "code",
   "execution_count": null,
   "metadata": {},
   "outputs": [],
   "source": []
  }
 ],
 "metadata": {
  "interpreter": {
   "hash": "fbe69909b876abbd803d291e51ebabcdbbeff4e7f625f723ebefe76e750e4611"
  },
  "kernelspec": {
   "display_name": "Python 3.7.5 64-bit",
   "language": "python",
   "name": "python3"
  },
  "language_info": {
   "codemirror_mode": {
    "name": "ipython",
    "version": 3
   },
   "file_extension": ".py",
   "mimetype": "text/x-python",
   "name": "python",
   "nbconvert_exporter": "python",
   "pygments_lexer": "ipython3",
   "version": "3.10.4"
  },
  "orig_nbformat": 4
 },
 "nbformat": 4,
 "nbformat_minor": 2
}
