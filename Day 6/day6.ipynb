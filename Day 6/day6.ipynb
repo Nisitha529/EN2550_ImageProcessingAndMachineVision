{
 "cells": [
  {
   "cell_type": "code",
   "execution_count": 1,
   "metadata": {},
   "outputs": [],
   "source": [
    "import numpy as np\n",
    "import matplotlib.pyplot as plt\n",
    "import cv2 as cv"
   ]
  },
  {
   "cell_type": "code",
   "execution_count": 4,
   "metadata": {},
   "outputs": [],
   "source": [
    "sudoku = cv.imread(r'images/sudoku.png',cv.IMREAD_COLOR)\n",
    "assert sudoku is not None\n",
    "\n",
    "gray = cv.cvtColor(sudoku,cv.COLOR_BGR2GRAY)\n",
    "\n",
    "edges = cv.Canny(gray,50,150,apertureSize=3)\n",
    "lines = cv.HoughLines(edges,1,np.pi/180,200)\n",
    "\n",
    "for line in lines:\n",
    "    rho,theta  = line[0]\n",
    "    a = np.cos(theta)\n",
    "    b = np.sin(theta)\n",
    "    x0,y0 = a*rho,b*rho\n",
    "    x1,y1 = int(x0 + 1000*(-b)),int(y0+1000*a)\n",
    "    x2,y2 = int(x0 - 1000*(-b)),int(y0 - 1000*a)\n",
    "    cv.line(sudoku,(x1,y1),(x2,y2),(0,0,255),2)\n",
    "\n",
    "cv.namedWindow(\"Image\",cv.WINDOW_NORMAL)\n",
    "cv.imshow(\"Image\",gray)\n",
    "cv.waitKey()\n",
    "cv.imshow(\"Image\",edges)\n",
    "cv.waitKey()\n",
    "cv.imshow(\"Images\",sudoku)\n",
    "cv.waitKey()\n",
    "cv.destroyAllWindows()"
   ]
  },
  {
   "cell_type": "code",
   "execution_count": null,
   "metadata": {},
   "outputs": [],
   "source": []
  }
 ],
 "metadata": {
  "interpreter": {
   "hash": "392e7f8e0f34f9de3045893fba8e952821b400c8f2a4a103bb75f5db187014f6"
  },
  "kernelspec": {
   "display_name": "Python 3.7.5 ('tes')",
   "language": "python",
   "name": "python3"
  },
  "language_info": {
   "codemirror_mode": {
    "name": "ipython",
    "version": 3
   },
   "file_extension": ".py",
   "mimetype": "text/x-python",
   "name": "python",
   "nbconvert_exporter": "python",
   "pygments_lexer": "ipython3",
   "version": "3.7.5"
  },
  "orig_nbformat": 4
 },
 "nbformat": 4,
 "nbformat_minor": 2
}
