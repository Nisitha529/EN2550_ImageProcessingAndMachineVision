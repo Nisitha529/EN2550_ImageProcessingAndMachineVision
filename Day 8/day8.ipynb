{
 "cells": [
  {
   "cell_type": "markdown",
   "metadata": {},
   "source": [
    "Name : SILVA G.B.N.M. <br>\n",
    "Index No: 190592X"
   ]
  },
  {
   "cell_type": "code",
   "execution_count": 12,
   "metadata": {},
   "outputs": [],
   "source": [
    "import numpy as np\n",
    "import matplotlib.pyplot as plt\n",
    "import cv2 as cv\n",
    "from scipy.linalg import null_space"
   ]
  },
  {
   "cell_type": "markdown",
   "metadata": {},
   "source": [
    "Q1"
   ]
  },
  {
   "cell_type": "code",
   "execution_count": 9,
   "metadata": {},
   "outputs": [],
   "source": [
    "f = open(r'images/templeSparseRing/templeSR_par.txt','r')\n",
    "assert f is not None\n",
    "n = int(f.readline())\n",
    "\n",
    "#First Image\n",
    "l = f.readline().split()\n",
    "im1_fn = l[0]\n",
    "k1 = np.array([float(i) for i in l[1:10]]).reshape((3,3))\n",
    "r1 = np.array([float(i) for i in l[10:19]]).reshape((3,3))\n",
    "t1 = np.array([float(i) for i in l[19:22]]).reshape((3,1))\n",
    "\n",
    "#Second Image\n",
    "l = f.readline().split()\n",
    "im2_fn = l[0]\n",
    "k2 = np.array([float(i) for i in l[1:10]]).reshape((3,3))\n",
    "r2 = np.array([float(i) for i in l[10:19]]).reshape((3,3))\n",
    "t2 = np.array([float(i) for i in l[19:22]]).reshape((3,1))"
   ]
  },
  {
   "cell_type": "markdown",
   "metadata": {},
   "source": [
    "Q2"
   ]
  },
  {
   "cell_type": "code",
   "execution_count": 11,
   "metadata": {},
   "outputs": [
    {
     "name": "stdout",
     "output_type": "stream",
     "text": [
      "P1 =  [[ 4.80251845e+01  1.44011271e+03 -5.71648932e+02  7.53293366e+01]\n",
      " [ 1.53577034e+03 -6.41434324e+01 -1.63127843e+02  1.85810055e+02]\n",
      " [ 4.88387837e-02 -1.81568392e-01 -9.82164799e-01  6.14604846e-01]]\n",
      "P2 =  [[-1.55882371e+02  1.44377186e+03 -5.42436214e+02  6.81806220e+01]\n",
      " [ 1.34928131e+03 -8.41979541e+01 -7.49443961e+02  1.99929996e+02]\n",
      " [-3.40999743e-01 -1.74474039e-01 -9.23730472e-01  6.00850565e-01]]\n"
     ]
    }
   ],
   "source": [
    "P1 = k1 @ np.hstack((r1,t1))\n",
    "P2 = k2 @ np.hstack((r2,t2))\n",
    "\n",
    "print(\"P1 = \",P1)\n",
    "print(\"P2 = \",P2)"
   ]
  },
  {
   "cell_type": "markdown",
   "metadata": {},
   "source": [
    "Q3"
   ]
  },
  {
   "cell_type": "code",
   "execution_count": null,
   "metadata": {},
   "outputs": [],
   "source": []
  }
 ],
 "metadata": {
  "interpreter": {
   "hash": "fbe69909b876abbd803d291e51ebabcdbbeff4e7f625f723ebefe76e750e4611"
  },
  "kernelspec": {
   "display_name": "Python 3.7.5 64-bit",
   "language": "python",
   "name": "python3"
  },
  "language_info": {
   "codemirror_mode": {
    "name": "ipython",
    "version": 3
   },
   "file_extension": ".py",
   "mimetype": "text/x-python",
   "name": "python",
   "nbconvert_exporter": "python",
   "pygments_lexer": "ipython3",
   "version": "3.7.5"
  },
  "orig_nbformat": 4
 },
 "nbformat": 4,
 "nbformat_minor": 2
}
